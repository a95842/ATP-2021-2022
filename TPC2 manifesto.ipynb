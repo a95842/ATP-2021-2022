{
 "cells": [
  {
   "cell_type": "markdown",
   "id": "3a5919ef",
   "metadata": {},
   "source": [
    "# TPC2 - Advinhar número\n",
    "\n",
    "\n",
    "\n",
    "### **Identificador do trabalho** : TPC2 - advinhar numero\n",
    "### **Data de início** : 2021 - 10 - 16\n",
    "### **Data de fim** : 2021 - 10 - 18\n",
    "### **Supervisor** : [Professor José Carlos Ramalho](https://www.di.uminho.pt/~jcr/)\n",
    "### **Autor** : Dinis Henrique Pregueiro Mesquita - A95842\n",
    "### **Resumo** : Este trabalho tinha como objetivo criar um pedaço de código que conseguia descobrir o número escolhido pelo usuário no menor número de tentativas possível."
   ]
  },
  {
   "cell_type": "markdown",
   "id": "43cc3906",
   "metadata": {},
   "source": []
  }
 ],
 "metadata": {
  "kernelspec": {
   "display_name": "Python 3",
   "language": "python",
   "name": "python3"
  },
  "language_info": {
   "codemirror_mode": {
    "name": "ipython",
    "version": 3
   },
   "file_extension": ".py",
   "mimetype": "text/x-python",
   "name": "python",
   "nbconvert_exporter": "python",
   "pygments_lexer": "ipython3",
   "version": "3.8.8"
  }
 },
 "nbformat": 4,
 "nbformat_minor": 5
}
