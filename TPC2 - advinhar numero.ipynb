{
 "cells": [
  {
   "cell_type": "code",
   "execution_count": null,
   "id": "9c06c689",
   "metadata": {},
   "outputs": [],
   "source": [
    "numero_pensado = input(\"introduzir numero pensado entre 0 a 100:\")\n",
    "\n",
    "\n",
    "n = 50\n",
    "tentativa = 1\n",
    "\n",
    "\n",
    "\n",
    "while n != int(numero_pensado) :\n",
    "    print(\"o computador advinhou o numero:\", n)\n",
    "    maior_ou_menor = input(\"Escreve 'maior' ou 'menor', se o numero advinhado pelo computador e maior ou menor, respetivamente: \")\n",
    "    \n",
    "    if maior_ou_menor == \"maior\" :\n",
    "        \n",
    "        n = n + n//2\n",
    "        \n",
    "        \n",
    "        \n",
    "        tentativa = tentativa + 1\n",
    "    \n",
    "    \n",
    "    elif maior_ou_menor == \"menor\":\n",
    "            n = n - n//2\n",
    "        \n",
    "    tentativa = tentativa + 1\n",
    "    \n",
    "    \n",
    "        \n",
    "    \n",
    "    \n",
    "\n",
    "print(\"o numero pensado foi:\" , numero_pensado )\n",
    "print(\"o computador demorou\" , tentativa , \"tentativas\")"
   ]
  },
  {
   "cell_type": "code",
   "execution_count": null,
   "id": "376a4676",
   "metadata": {},
   "outputs": [],
   "source": []
  }
 ],
 "metadata": {
  "kernelspec": {
   "display_name": "Python 3",
   "language": "python",
   "name": "python3"
  },
  "language_info": {
   "codemirror_mode": {
    "name": "ipython",
    "version": 3
   },
   "file_extension": ".py",
   "mimetype": "text/x-python",
   "name": "python",
   "nbconvert_exporter": "python",
   "pygments_lexer": "ipython3",
   "version": "3.8.8"
  }
 },
 "nbformat": 4,
 "nbformat_minor": 5
}
