{
 "cells": [
  {
   "cell_type": "markdown",
   "id": "0d56bbdd",
   "metadata": {},
   "source": [
    "# TPC5 - Polinómios\n",
    "\n",
    "\n",
    "\n",
    "### **Identificador do trabalho** : TPC5 - polinomios\n",
    "### **Data de início** : 2021 - 11 - 13\n",
    "### **Data de fim** : 2021 - 11 - 14\n",
    "### **Supervisor** : [Professor José Carlos Ramalho](https://www.di.uminho.pt/~jcr/)\n",
    "### **Autor** : Dinis Henrique Pregueiro Mesquita - A95842\n",
    "### **Resumo** : Este trabalho tinha como objetivo criar um pedaço de código com um menu incorporado para criar e manipular polinómios."
   ]
  }
 ],
 "metadata": {
  "kernelspec": {
   "display_name": "Python 3",
   "language": "python",
   "name": "python3"
  },
  "language_info": {
   "codemirror_mode": {
    "name": "ipython",
    "version": 3
   },
   "file_extension": ".py",
   "mimetype": "text/x-python",
   "name": "python",
   "nbconvert_exporter": "python",
   "pygments_lexer": "ipython3",
   "version": "3.8.8"
  }
 },
 "nbformat": 4,
 "nbformat_minor": 5
}
