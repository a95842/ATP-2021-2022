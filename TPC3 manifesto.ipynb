{
 "cells": [
  {
   "cell_type": "markdown",
   "id": "b666a812",
   "metadata": {},
   "source": [
    "# TPC3 - Bubble sort\n",
    "\n",
    "\n",
    "\n",
    "### **Identificador do trabalho** : TPC3 - bubble sort\n",
    "### **Data de início** : 2021 - 10 - 23\n",
    "### **Data de fim** : 2021 - 10 - 24\n",
    "### **Supervisor** : [Professor José Carlos Ramalho](https://www.di.uminho.pt/~jcr/)\n",
    "### **Autor** : Dinis Henrique Pregueiro Mesquita - A95842\n",
    "### **Resumo** : Este trabalho tinha como objetivo criar um pedaço de código com um menu incorporado com alguns exercícios feitos na aula prática, que consiga fazer um \"bubble sort\" de uma lista."
   ]
  },
  {
   "cell_type": "markdown",
   "id": "d73fe907",
   "metadata": {},
   "source": []
  }
 ],
 "metadata": {
  "kernelspec": {
   "display_name": "Python 3",
   "language": "python",
   "name": "python3"
  },
  "language_info": {
   "codemirror_mode": {
    "name": "ipython",
    "version": 3
   },
   "file_extension": ".py",
   "mimetype": "text/x-python",
   "name": "python",
   "nbconvert_exporter": "python",
   "pygments_lexer": "ipython3",
   "version": "3.8.8"
  }
 },
 "nbformat": 4,
 "nbformat_minor": 5
}
