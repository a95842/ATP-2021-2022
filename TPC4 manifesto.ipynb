{
 "cells": [
  {
   "cell_type": "markdown",
   "id": "f30677fa",
   "metadata": {},
   "source": [
    "# TPC4 - Frações\n",
    "\n",
    "\n",
    "\n",
    "### **Identificador do trabalho** : TPC4 - fraçoes\n",
    "### **Data de início** : 2021 - 10 - 30\n",
    "### **Data de fim** : 2021 - 10 - 31\n",
    "### **Supervisor** : [Professor José Carlos Ramalho](https://www.di.uminho.pt/~jcr/)\n",
    "### **Autor** : Dinis Henrique Pregueiro Mesquita - A95842\n",
    "### **Resumo** : Este trabalho tinha como objetivo criar um pedaço de código com um menu incorporado para o efetuar sobretudo operações com frações."
   ]
  }
 ],
 "metadata": {
  "kernelspec": {
   "display_name": "Python 3",
   "language": "python",
   "name": "python3"
  },
  "language_info": {
   "codemirror_mode": {
    "name": "ipython",
    "version": 3
   },
   "file_extension": ".py",
   "mimetype": "text/x-python",
   "name": "python",
   "nbconvert_exporter": "python",
   "pygments_lexer": "ipython3",
   "version": "3.8.8"
  }
 },
 "nbformat": 4,
 "nbformat_minor": 5
}
